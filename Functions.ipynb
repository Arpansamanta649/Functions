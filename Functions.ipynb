{
  "nbformat": 4,
  "nbformat_minor": 0,
  "metadata": {
    "colab": {
      "provenance": []
    },
    "kernelspec": {
      "name": "python3",
      "display_name": "Python 3"
    },
    "language_info": {
      "name": "python"
    }
  },
  "cells": [
    {
      "cell_type": "markdown",
      "source": [
        "#Theory Questions"
      ],
      "metadata": {
        "id": "06yGFV6sFY_E"
      }
    },
    {
      "cell_type": "markdown",
      "source": [
        "1. What is the difference between a function and a method in Python?\n",
        "   - A function is a block of code that performs a specific task.It can exist independently.\n",
        "   - A method is also a function, but it is associated with an class."
      ],
      "metadata": {
        "id": "GQSQpjyRDwv3"
      }
    },
    {
      "cell_type": "code",
      "execution_count": 27,
      "metadata": {
        "colab": {
          "base_uri": "https://localhost:8080/"
        },
        "id": "LNy4HweoDUCj",
        "outputId": "dfb1937c-0121-418d-a997-650ce905eb85"
      },
      "outputs": [
        {
          "output_type": "stream",
          "name": "stdout",
          "text": [
            "8\n",
            "8\n"
          ]
        }
      ],
      "source": [
        "# Example\n",
        "# function\n",
        "def add(a, b):\n",
        "    return a + b\n",
        "print(add(3, 5))   # 8\n",
        "\n",
        "# method\n",
        "class Calculator:\n",
        "    def add(self, a, b):   # method (belongs to class)\n",
        "        return a + b\n",
        "calc = Calculator()\n",
        "print(calc.add(3, 5))   # 8"
      ]
    },
    {
      "cell_type": "markdown",
      "source": [
        "2. Explain the concept of function arguments and parameters in Python.\n",
        "   - Parameters are variables defined in the function definition, while arguments are the actual values we pass when calling the function."
      ],
      "metadata": {
        "id": "lx1q5fbiIhoR"
      }
    },
    {
      "cell_type": "code",
      "source": [
        "# Example\n",
        "def add(a, b):   # a, b are parameters\n",
        "    return a + b\n",
        "print(add(3, 5))  # 3, 5 are arguments\n"
      ],
      "metadata": {
        "colab": {
          "base_uri": "https://localhost:8080/"
        },
        "id": "XmZZuXtEI2Hp",
        "outputId": "937ce46c-802b-4f73-92bb-a7372675e93a"
      },
      "execution_count": 28,
      "outputs": [
        {
          "output_type": "stream",
          "name": "stdout",
          "text": [
            "8\n"
          ]
        }
      ]
    },
    {
      "cell_type": "markdown",
      "source": [
        "3. What are the different ways to define and call a function in Python?\n",
        "   - Using def keyword\n",
        "   - Using lambda (anonymous function)\n",
        "   - Calling by position, keyword, default, or variable-length arguments"
      ],
      "metadata": {
        "id": "UT0armpkJXld"
      }
    },
    {
      "cell_type": "code",
      "source": [
        "# Example\n",
        "# Using def keyword\n",
        "def add(a, b):\n",
        "    return a + b\n",
        "print(add(3, 5))   # 8\n",
        "\n",
        "# Using lambda (anonymous function)\n",
        "add = lambda a, b: a + b\n",
        "print(add(3, 5))  # 8\n",
        "\n",
        "# Default & keyword arguments\n",
        "def student(name, age=18):\n",
        "    print(name, age)\n",
        "\n",
        "student(\"Arpan\")         # Arpan 18\n",
        "student(age=20, name=\"Samanta\")  # Alice 20"
      ],
      "metadata": {
        "colab": {
          "base_uri": "https://localhost:8080/"
        },
        "id": "q39k2W-jKoFC",
        "outputId": "c371aceb-6636-4b63-9cae-6442ba0c39ed"
      },
      "execution_count": 29,
      "outputs": [
        {
          "output_type": "stream",
          "name": "stdout",
          "text": [
            "8\n",
            "8\n",
            "Arpan 18\n",
            "Samanta 20\n"
          ]
        }
      ]
    },
    {
      "cell_type": "markdown",
      "source": [
        "4. What is the purpose of the `return` statement in a Python function?\n",
        "   - The return statement is used to send a value from a function back to the caller, allowing the function to produce an output"
      ],
      "metadata": {
        "id": "7B9TJku9LE-Y"
      }
    },
    {
      "cell_type": "code",
      "source": [
        "# Example\n",
        "def add(a, b):\n",
        "    return a + b   # returns result\n",
        "result = add(3, 5)\n",
        "print(result)   # 8\n"
      ],
      "metadata": {
        "colab": {
          "base_uri": "https://localhost:8080/"
        },
        "id": "hvzkqY8gLR7j",
        "outputId": "72aca849-cd97-44f0-92fa-ac873e67ec0f"
      },
      "execution_count": 30,
      "outputs": [
        {
          "output_type": "stream",
          "name": "stdout",
          "text": [
            "8\n"
          ]
        }
      ]
    },
    {
      "cell_type": "markdown",
      "source": [
        "5. What are iterators in Python and how do they differ from iterables?\n",
        "   - An iterable is any object that can return an iterator (like list, tuple, str), while an iterator is an object with __iter__() and __next__() methods that gives elements one at a time."
      ],
      "metadata": {
        "id": "Dx_lEscZLdvd"
      }
    },
    {
      "cell_type": "code",
      "source": [
        "# Example\n",
        "nums = [1, 2, 3]        # iterable\n",
        "it = iter(nums)         # iterator\n",
        "print(next(it))  # 1\n",
        "print(next(it))  # 2\n"
      ],
      "metadata": {
        "colab": {
          "base_uri": "https://localhost:8080/"
        },
        "id": "IQat4aXyL0GQ",
        "outputId": "2774ea13-b5e4-42f7-b09d-76ba441ced7a"
      },
      "execution_count": 31,
      "outputs": [
        {
          "output_type": "stream",
          "name": "stdout",
          "text": [
            "1\n",
            "2\n"
          ]
        }
      ]
    },
    {
      "cell_type": "markdown",
      "source": [
        "6. Explain the concept of generators in Python and how they are defined.\n",
        "   - A generator in Python is a special function that produces values one at a time using the yield keyword, instead of returning all values at once. They are memory-efficient because they generate values on demand (lazy evaluation). Defined like a normal function but with yield."
      ],
      "metadata": {
        "id": "X_NWslkpMJiJ"
      }
    },
    {
      "cell_type": "code",
      "source": [
        "# Example\n",
        "def count_up_to(n):\n",
        "    i = 1\n",
        "    while i <= n:\n",
        "        yield i   # pauses and returns value\n",
        "        i += 1\n",
        "gen = count_up_to(3)\n",
        "for num in gen:\n",
        "    print(num)   # 1, 2, 3\n"
      ],
      "metadata": {
        "colab": {
          "base_uri": "https://localhost:8080/"
        },
        "id": "KqNgjWADL5_f",
        "outputId": "ed4c4b19-7ac9-4d7a-a0fc-9f7460a2cd0c"
      },
      "execution_count": 32,
      "outputs": [
        {
          "output_type": "stream",
          "name": "stdout",
          "text": [
            "1\n",
            "2\n",
            "3\n"
          ]
        }
      ]
    },
    {
      "cell_type": "markdown",
      "source": [
        "7. What are the advantages of using generators over regular functions?\n",
        "   - Memory efficient - they yield one value at a time instead of storing the whole sequence.\n",
        "   - Lazy evaluation - values are produced only when needed, saving resources.\n",
        "\n",
        "   - Infinite sequences - can represent endless data streams without memory issues.\n",
        "\n",
        "   - Improves performance - avoids overhead of creating large data structures."
      ],
      "metadata": {
        "id": "34Nql3qgN4gN"
      }
    },
    {
      "cell_type": "code",
      "source": [
        "# Example\n",
        "def squares(n):\n",
        "    for i in range(n):\n",
        "        yield i*i   # generator\n",
        "\n",
        "for val in squares(5):\n",
        "    print(val)\n"
      ],
      "metadata": {
        "colab": {
          "base_uri": "https://localhost:8080/"
        },
        "id": "230rf48pMreL",
        "outputId": "bd74e818-b9f4-4a21-a2cd-bc9a3eb701ab"
      },
      "execution_count": 34,
      "outputs": [
        {
          "output_type": "stream",
          "name": "stdout",
          "text": [
            "0\n",
            "1\n",
            "4\n",
            "9\n",
            "16\n"
          ]
        }
      ]
    },
    {
      "cell_type": "markdown",
      "source": [
        "8. What is a lambda function in Python and when is it typically used?\n",
        "   - A lambda function is a small anonymous (nameless) function defined with the keyword lambda, used for short, simple operations."
      ],
      "metadata": {
        "id": "fDEX7NjrOtmW"
      }
    },
    {
      "cell_type": "code",
      "source": [
        "# Example\n",
        "square = lambda x: x*x\n",
        "print(square(5))  # 25"
      ],
      "metadata": {
        "colab": {
          "base_uri": "https://localhost:8080/"
        },
        "id": "X8fWyrRwOljX",
        "outputId": "51a9baa6-e654-49bf-e691-371714be3e8a"
      },
      "execution_count": 35,
      "outputs": [
        {
          "output_type": "stream",
          "name": "stdout",
          "text": [
            "25\n"
          ]
        }
      ]
    },
    {
      "cell_type": "markdown",
      "source": [
        "9. Explain the purpose and usage of the `map()` function in Python.\n",
        "   - The map() function in Python applies a given function to each item of an iterable (like list, tuple) and returns a map object (iterator)."
      ],
      "metadata": {
        "id": "axDoTc9RPAb2"
      }
    },
    {
      "cell_type": "code",
      "source": [
        "# Example\n",
        "nums = [1, 2, 3, 4]\n",
        "squares = map(lambda x: x*x, nums)\n",
        "print(list(squares))   # [1, 4, 9, 16]"
      ],
      "metadata": {
        "colab": {
          "base_uri": "https://localhost:8080/"
        },
        "id": "CO-uVzxEO7Mq",
        "outputId": "279109aa-d085-4794-b4ba-0abd869cf442"
      },
      "execution_count": 36,
      "outputs": [
        {
          "output_type": "stream",
          "name": "stdout",
          "text": [
            "[1, 4, 9, 16]\n"
          ]
        }
      ]
    },
    {
      "cell_type": "markdown",
      "source": [
        " 10. What is the difference between `map()`, `reduce()`, and `filter()` functions in Python?\n",
        "     - map() - applies a function to each element and returns a new iterable.\n",
        "     - filter() - keeps only elements that satisfy a condition (function returns True).\n",
        "     - reduce() - applies a function cumulatively to reduce iterable to a single value."
      ],
      "metadata": {
        "id": "qo3sBTKKPVJK"
      }
    },
    {
      "cell_type": "code",
      "source": [
        "# Example\n",
        "# map()\n",
        "nums = [1, 2, 3]\n",
        "print(list(map(lambda x: x*x, nums)))   # [1, 4, 9]\n",
        "\n",
        "# filter()\n",
        "nums = [1, 2, 3, 4]\n",
        "print(list(filter(lambda x: x%2==0, nums)))   # [2, 4]\n",
        "\n",
        "# reduce()\n",
        "from functools import reduce\n",
        "nums = [1, 2, 3, 4]\n",
        "print(reduce(lambda x, y: x+y, nums))   # 10"
      ],
      "metadata": {
        "colab": {
          "base_uri": "https://localhost:8080/"
        },
        "id": "9GvGnlJ-POaG",
        "outputId": "ada92aa4-2892-4ea1-d00d-45c52098f352"
      },
      "execution_count": 37,
      "outputs": [
        {
          "output_type": "stream",
          "name": "stdout",
          "text": [
            "[1, 4, 9]\n",
            "[2, 4]\n",
            "10\n"
          ]
        }
      ]
    },
    {
      "cell_type": "markdown",
      "source": [
        "11. Using pen & Paper write the internal mechanism for sum operation using  reduce function on this given\n",
        "list:[47,11,42,13];"
      ],
      "metadata": {
        "id": "aB_7i6hPREh3"
      }
    },
    {
      "cell_type": "code",
      "source": [
        "from IPython.display import Image\n",
        "Image('Q11.jpg')"
      ],
      "metadata": {
        "colab": {
          "base_uri": "https://localhost:8080/",
          "height": 1000
        },
        "id": "eLUAVUOXQR-E",
        "outputId": "18be45c9-df66-4091-f072-fc66ace36eeb"
      },
      "execution_count": 59,
      "outputs": [
        {
          "output_type": "execute_result",
          "data": {
            "image/jpeg": "[encoded data removed]",
            "text/plain": [
              "<IPython.core.display.Image object>"
            ]
          },
          "metadata": {},
          "execution_count": 59
        }
      ]
    },
    {
      "cell_type": "markdown",
      "source": [
        "#Practical Questions"
      ],
      "metadata": {
        "id": "rTHoWkNaRGIf"
      }
    },
    {
      "cell_type": "markdown",
      "source": [
        "1. Write a Python function that takes a list of numbers as input and returns the sum of all even numbers in\n",
        "the list."
      ],
      "metadata": {
        "id": "ZImv2n7qRYM7"
      }
    },
    {
      "cell_type": "code",
      "source": [
        "def sum_of_evens(nums):\n",
        "    return sum(n for n in nums if n % 2 == 0)\n",
        "\n",
        "# Example\n",
        "numbers = [1, 2, 3, 4, 5, 6]\n",
        "print(sum_of_evens(numbers))   # Output: 12\n"
      ],
      "metadata": {
        "colab": {
          "base_uri": "https://localhost:8080/"
        },
        "id": "DigclLi7RK15",
        "outputId": "71d41cae-02a3-4537-e387-ff4c56103078"
      },
      "execution_count": 38,
      "outputs": [
        {
          "output_type": "stream",
          "name": "stdout",
          "text": [
            "12\n"
          ]
        }
      ]
    },
    {
      "cell_type": "markdown",
      "source": [
        "2. Create a Python function that accepts a string and returns the reverse of that string."
      ],
      "metadata": {
        "id": "sg0ZFKJrRu-i"
      }
    },
    {
      "cell_type": "code",
      "source": [
        "def reverse_string(s):\n",
        "    return s[::-1]\n",
        "\n",
        "# Example\n",
        "text = \"Arpan Samanta\"\n",
        "print(reverse_string(text))   # Output: \"atnamaS naprA\""
      ],
      "metadata": {
        "colab": {
          "base_uri": "https://localhost:8080/"
        },
        "id": "-kTrsDUMRe6t",
        "outputId": "48c947ab-a6b9-4e91-ce03-63aee33c36c7"
      },
      "execution_count": 40,
      "outputs": [
        {
          "output_type": "stream",
          "name": "stdout",
          "text": [
            "atnamaS naprA\n"
          ]
        }
      ]
    },
    {
      "cell_type": "markdown",
      "source": [
        "3. Implement a Python function that takes a list of integers and returns a new list containing the squares of\n",
        "each number."
      ],
      "metadata": {
        "id": "17-doOL3SCRo"
      }
    },
    {
      "cell_type": "code",
      "source": [
        "def square_list(nums):\n",
        "    return [n**2 for n in nums]\n",
        "\n",
        "# Example\n",
        "numbers = [1, 2, 3, 4]\n",
        "print(square_list(numbers))   # Output: [1, 4, 9, 16]"
      ],
      "metadata": {
        "colab": {
          "base_uri": "https://localhost:8080/"
        },
        "id": "YxvwNHzFRzhb",
        "outputId": "fbc83bb9-deda-421b-d177-db74355f38af"
      },
      "execution_count": 41,
      "outputs": [
        {
          "output_type": "stream",
          "name": "stdout",
          "text": [
            "[1, 4, 9, 16]\n"
          ]
        }
      ]
    },
    {
      "cell_type": "markdown",
      "source": [
        "4. Write a Python function that checks if a given number is prime or not from 1 to 200."
      ],
      "metadata": {
        "id": "jyQWRTrsSNRz"
      }
    },
    {
      "cell_type": "code",
      "source": [
        "def is_prime(n):\n",
        "    if n < 2:\n",
        "        return False\n",
        "    for i in range(2, int(n**0.5)+1):\n",
        "        if n % i == 0:\n",
        "            return False\n",
        "    return True\n",
        "\n",
        "# Example: Check all numbers from 1 to 200\n",
        "for num in range(1, 201):\n",
        "    if is_prime(num):\n",
        "        print(num,end=' ')\n"
      ],
      "metadata": {
        "colab": {
          "base_uri": "https://localhost:8080/"
        },
        "id": "lQC8n2vqSJ2C",
        "outputId": "2836a810-b17e-4ef4-b514-8c91f8dfe4db"
      },
      "execution_count": 43,
      "outputs": [
        {
          "output_type": "stream",
          "name": "stdout",
          "text": [
            "2 3 5 7 11 13 17 19 23 29 31 37 41 43 47 53 59 61 67 71 73 79 83 89 97 101 103 107 109 113 127 131 137 139 149 151 157 163 167 173 179 181 191 193 197 199 "
          ]
        }
      ]
    },
    {
      "cell_type": "markdown",
      "source": [
        "5. Create an iterator class in Python that generates the Fibonacci sequence up to a specified number of\n",
        "terms."
      ],
      "metadata": {
        "id": "qqtyNyZPS3u6"
      }
    },
    {
      "cell_type": "code",
      "source": [
        "class Fibonacci:\n",
        "    def __init__(self, n_terms):\n",
        "        self.n_terms = n_terms\n",
        "        self.count = 0\n",
        "        self.a, self.b = 0, 1\n",
        "\n",
        "    def __iter__(self):\n",
        "        return self\n",
        "\n",
        "    def __next__(self):\n",
        "        if self.count >= self.n_terms:\n",
        "            raise StopIteration\n",
        "        if self.count == 0:\n",
        "            self.count += 1\n",
        "            return self.a\n",
        "        elif self.count == 1:\n",
        "            self.count += 1\n",
        "            return self.b\n",
        "        else:\n",
        "            self.a, self.b = self.b, self.a + self.b\n",
        "            self.count += 1\n",
        "            return self.b\n",
        "\n",
        "# Example: Generate first 10 Fibonacci numbers\n",
        "fib = Fibonacci(10)\n",
        "for num in fib:\n",
        "    print(num, end=' ')\n"
      ],
      "metadata": {
        "colab": {
          "base_uri": "https://localhost:8080/"
        },
        "id": "JfsOm0FUTi79",
        "outputId": "c112d7ef-20d7-4095-bd9f-3615381736fd"
      },
      "execution_count": 47,
      "outputs": [
        {
          "output_type": "stream",
          "name": "stdout",
          "text": [
            "0 1 1 2 3 5 8 13 21 34 "
          ]
        }
      ]
    },
    {
      "cell_type": "markdown",
      "source": [
        "6. Write a generator function in Python that yields the powers of 2 up to a given exponent."
      ],
      "metadata": {
        "id": "2TGR9ZreT5Fn"
      }
    },
    {
      "cell_type": "code",
      "source": [
        "def powers_of_2(n):\n",
        "    for i in range(n + 1):\n",
        "        yield 2 ** i\n",
        "\n",
        "# Example: powers of 2 up to 5\n",
        "for val in powers_of_2(5):\n",
        "    print(val, end=' ')"
      ],
      "metadata": {
        "colab": {
          "base_uri": "https://localhost:8080/"
        },
        "id": "_SE9G4GPTtWC",
        "outputId": "f1e1074e-289c-44bb-9749-ad6637f5409b"
      },
      "execution_count": 48,
      "outputs": [
        {
          "output_type": "stream",
          "name": "stdout",
          "text": [
            "1 2 4 8 16 32 "
          ]
        }
      ]
    },
    {
      "cell_type": "markdown",
      "source": [
        "7. Implement a generator function that reads a file line by line and yields each line as a string."
      ],
      "metadata": {
        "id": "oPi12_EpUN5B"
      }
    },
    {
      "cell_type": "code",
      "source": [
        "# Create a sample file\n",
        "with open('sample.txt', 'w') as f:\n",
        "    f.write(\"Hello\\n\")\n",
        "    f.write(\"World\\n\")\n",
        "    f.write(\"Python\\n\")\n",
        "\n",
        "def read_file_line_by_line(filename):\n",
        "    with open(filename, 'r') as file:\n",
        "        for line in file:\n",
        "            yield line.rstrip('\\n')  # remove newline character\n",
        "\n",
        "# Example usage\n",
        "for line in read_file_line_by_line('sample.txt'):\n",
        "    print(line)"
      ],
      "metadata": {
        "colab": {
          "base_uri": "https://localhost:8080/"
        },
        "id": "xo9kGYDzUhaU",
        "outputId": "bfefb540-9ad2-4266-fde8-37e671f5c2cf"
      },
      "execution_count": 54,
      "outputs": [
        {
          "output_type": "stream",
          "name": "stdout",
          "text": [
            "Hello\n",
            "World\n",
            "Python\n"
          ]
        }
      ]
    },
    {
      "cell_type": "markdown",
      "source": [
        "8. Use a lambda function in Python to sort a list of tuples based on the second element of each tuple."
      ],
      "metadata": {
        "id": "Ak9oSTGmV8J4"
      }
    },
    {
      "cell_type": "code",
      "source": [
        "# List of tuples\n",
        "data = [(1, 3), (2, 1), (4, 2)]\n",
        "\n",
        "# Sort based on second element\n",
        "sorted_data = sorted(data, key=lambda x: x[1])\n",
        "\n",
        "print(sorted_data)\n"
      ],
      "metadata": {
        "colab": {
          "base_uri": "https://localhost:8080/"
        },
        "id": "ba7H-dFvVGYT",
        "outputId": "acda3527-e662-43f3-c71a-92ae127c1757"
      },
      "execution_count": 55,
      "outputs": [
        {
          "output_type": "stream",
          "name": "stdout",
          "text": [
            "[(2, 1), (4, 2), (1, 3)]\n"
          ]
        }
      ]
    },
    {
      "cell_type": "markdown",
      "source": [
        "9. Write a Python program that uses `map()` to convert a list of temperatures from Celsius to Fahrenheit."
      ],
      "metadata": {
        "id": "3fPyDbDYWLOq"
      }
    },
    {
      "cell_type": "code",
      "source": [
        "# Function to convert Celsius to Fahrenheit\n",
        "def c_to_f(c):\n",
        "    return (c * 9/5) + 32\n",
        "\n",
        "# List of temperatures in Celsius\n",
        "celsius = [0, 20, 37, 100]\n",
        "\n",
        "# Convert using map\n",
        "fahrenheit = list(map(c_to_f, celsius))\n",
        "\n",
        "print(fahrenheit)   # Output: [32.0, 68.0, 98.6, 212.0]\n"
      ],
      "metadata": {
        "colab": {
          "base_uri": "https://localhost:8080/"
        },
        "id": "q4xWJmc-WFW-",
        "outputId": "1cce419c-ad20-4118-ec8f-bbdeeaf1e383"
      },
      "execution_count": 56,
      "outputs": [
        {
          "output_type": "stream",
          "name": "stdout",
          "text": [
            "[32.0, 68.0, 98.6, 212.0]\n"
          ]
        }
      ]
    },
    {
      "cell_type": "markdown",
      "source": [
        "10. Create a Python program that uses `filter()` to remove all the vowels from a given string."
      ],
      "metadata": {
        "id": "_VL6qh9tWXNf"
      }
    },
    {
      "cell_type": "code",
      "source": [
        "# Function to check if a character is not a vowel\n",
        "def not_vowel(char):\n",
        "    return char.lower() not in 'aeiou'\n",
        "\n",
        "# Input string\n",
        "text = \"Python Programming\"\n",
        "\n",
        "# Remove vowels using filter\n",
        "result = ''.join(filter(not_vowel, text))\n",
        "\n",
        "print(result)   # Output: \"Pythn Prgrmmng\""
      ],
      "metadata": {
        "colab": {
          "base_uri": "https://localhost:8080/"
        },
        "id": "XgN-7ynVWTZd",
        "outputId": "93a0cf50-73a7-42e8-be69-db043c954801"
      },
      "execution_count": 57,
      "outputs": [
        {
          "output_type": "stream",
          "name": "stdout",
          "text": [
            "Pythn Prgrmmng\n"
          ]
        }
      ]
    },
    {
      "cell_type": "markdown",
      "source": [
        "11. Imagine an accounting routine used in a book shop. It works on a list with sublists, which look like this:\n",
        "- Write a Python program, which returns a list with 2-tuples. Each tuple consists of the order number and the product of the price per item and the quantity. The product should be increased by 10,- € if the value of the order is smaller than 100,00 €.\n",
        "- Write a Python program using lambda and map."
      ],
      "metadata": {
        "id": "fNrGmDdFWyK1"
      }
    },
    {
      "cell_type": "code",
      "source": [
        "orders = [\n",
        "    [34587, \"Learning Python, Mark Lutz\", 4, 40.95],\n",
        "    [98762, \"Programming Python, Mark Lutz\", 5, 56.80],\n",
        "    [77226, \"Head First Python, Paul Barry\", 3, 32.95],\n",
        "    [88112, \"Einführung in Python3, Bernd Klein\", 3, 24.99]\n",
        "]\n",
        "\n",
        "# Use lambda + map\n",
        "result = list(map(lambda x: (x[0], x[2]*x[3] if x[2]*x[3] >= 100 else x[2]*x[3] + 10), orders))\n",
        "\n",
        "print(result)\n"
      ],
      "metadata": {
        "colab": {
          "base_uri": "https://localhost:8080/"
        },
        "id": "AymuLndnWejB",
        "outputId": "c24c56b2-f2bd-45f0-9196-aa7195bb91de"
      },
      "execution_count": 58,
      "outputs": [
        {
          "output_type": "stream",
          "name": "stdout",
          "text": [
            "[(34587, 163.8), (98762, 284.0), (77226, 108.85000000000001), (88112, 84.97)]\n"
          ]
        }
      ]
    }
  ]
}